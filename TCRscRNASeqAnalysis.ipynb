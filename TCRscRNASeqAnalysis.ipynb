{
  "cells": [
    {
      "cell_type": "markdown",
      "metadata": {
        "id": "view-in-github",
        "colab_type": "text"
      },
      "source": [
        "<a href=\"https://colab.research.google.com/github/gmestrallet/TCRscRNAseqAnalysis/blob/main/TCRscRNASeqAnalysis.ipynb\" target=\"_parent\"><img src=\"https://colab.research.google.com/assets/colab-badge.svg\" alt=\"Open In Colab\"/></a>"
      ]
    },
    {
      "cell_type": "markdown",
      "source": [
        "This notebook demonstrates how to do TCRseq coupled with scRNAseq analysis using scanpy and scirpy with data stored in google drive. More information available https://scirpy.scverse.org/en/latest/tutorials/tutorial_3k_tcr.html"
      ],
      "metadata": {
        "id": "pPL0WtvXoRXI"
      }
    },
    {
      "cell_type": "code",
      "execution_count": null,
      "metadata": {
        "id": "c3X9YlAcO3QD"
      },
      "outputs": [],
      "source": [
        "#Mount Google Drive to access your files, if they are stored there.\n",
        "from google.colab import drive\n",
        "drive.mount('/content/drive')"
      ]
    },
    {
      "cell_type": "code",
      "execution_count": null,
      "metadata": {
        "id": "JRwdPelJO91k"
      },
      "outputs": [],
      "source": [
        "#Set the path where you want to store the files (use your own directory).\n",
        "import os"
      ]
    },
    {
      "cell_type": "code",
      "execution_count": null,
      "metadata": {
        "id": "PGsygXHpO-BC"
      },
      "outputs": [],
      "source": [
        "#Replace 'RNAseq_folder' with the path to the folder in your Google Drive or use '/content/' for local storage.\n",
        "rna_seq_path = '/content/drive/My Drive/RNAseq_folder'\n",
        "os.chdir(rna_seq_path)"
      ]
    },
    {
      "cell_type": "code",
      "execution_count": null,
      "metadata": {
        "id": "0pOAnhuaO-Dy"
      },
      "outputs": [],
      "source": [
        "#Create directories for your data and figures\n",
        "os.makedirs('data', exist_ok=True)  # Creates 'data' directory if it doesn't exist\n",
        "os.chdir('data')"
      ]
    },
    {
      "cell_type": "code",
      "execution_count": null,
      "metadata": {
        "id": "dHhERnWWO-Gb"
      },
      "outputs": [],
      "source": [
        "#Create 'write' directory inside 'data'\n",
        "os.makedirs('write', exist_ok=True)"
      ]
    },
    {
      "cell_type": "code",
      "execution_count": null,
      "metadata": {
        "id": "ZTwwMN9EO-JT"
      },
      "outputs": [],
      "source": [
        "#Install necessary libraries and import\n",
        "!pip install scanpy  # Make sure scanpy is installed\n",
        "!pip install igraph  # Make sure igraph is installed\n",
        "!pip install leidenalg  # Make sure leidenalg is installed\n",
        "!pip install muon # Install the muon package\n",
        "!pip install scirpy # Install the scirpy package\n",
        "!pip install cycler # Install the cycler package\n",
        "!pip install bbknn # Install the bbknn package\n",
        "!pip install parasail # Install the parasail package\n",
        "import numpy as np\n",
        "import pandas as pd\n",
        "import scanpy as sc\n",
        "import seaborn as sns\n",
        "import matplotlib.pyplot as plt\n",
        "import tarfile\n",
        "import warnings\n",
        "from glob import glob\n",
        "import anndata\n",
        "import muon as mu\n",
        "import scirpy as ir\n",
        "from cycler import cycler\n",
        "from matplotlib import cm as mpl_cm"
      ]
    },
    {
      "cell_type": "code",
      "execution_count": null,
      "metadata": {
        "id": "vyOGud-DO-MC"
      },
      "outputs": [],
      "source": [
        "sc.set_figure_params(figsize=(4, 4))\n",
        "sc.settings.verbosity = 2  # verbosity: errors (0), warnings (1), info (2), hints (3)"
      ]
    },
    {
      "cell_type": "code",
      "execution_count": null,
      "metadata": {
        "id": "P6xNf458O-O1"
      },
      "outputs": [],
      "source": [
        "adatas_tcr = {}\n",
        "adatas_gex = {}"
      ]
    },
    {
      "cell_type": "code",
      "execution_count": null,
      "metadata": {
        "colab": {
          "background_save": true
        },
        "id": "2iQSY_yHO-SI"
      },
      "outputs": [],
      "source": [
        "# Load the TCR data\n",
        "adata_tcr_1 = ir.io.read_10x_vdj(\n",
        "    \"/content/drive/My Drive/RNAseq_folder/n1_filtered_contig_annotations.csv\"\n",
        ")\n",
        "adata_tcr_1.shape\n",
        "adatas_tcr['1'] = adata_tcr_1"
      ]
    },
    {
      "cell_type": "code",
      "execution_count": null,
      "metadata": {
        "colab": {
          "background_save": true
        },
        "id": "BpgNi-YdO-UR"
      },
      "outputs": [],
      "source": [
        "# Load the TCR data. Duplicate this step for each TCR sample\n",
        "adata_tcr_2 = ir.io.read_10x_vdj(\n",
        "    \"/content/drive/My Drive/RNAseq_folder/n2_filtered_contig_annotations.csv\"\n",
        ")\n",
        "adata_tcr_2.shape\n",
        "adatas_tcr['2'] = adata_tcr_2"
      ]
    },
    {
      "cell_type": "code",
      "execution_count": null,
      "metadata": {
        "colab": {
          "background_save": true
        },
        "id": "cJT1efWBO-Wu"
      },
      "outputs": [],
      "source": [
        "adata_tcr = anndata.concat(adatas_tcr)#, index_unique=\"_\")"
      ]
    },
    {
      "cell_type": "code",
      "execution_count": null,
      "metadata": {
        "colab": {
          "background_save": true
        },
        "id": "65wmZIxZO-ZV"
      },
      "outputs": [],
      "source": [
        "adata_tcr"
      ]
    },
    {
      "cell_type": "code",
      "execution_count": null,
      "metadata": {
        "colab": {
          "background_save": true
        },
        "id": "gqJxHOi2O-cF"
      },
      "outputs": [],
      "source": [
        "#Load scRNAseq data.\n",
        "adata_1 = sc.read_10x_h5('/content/drive/My Drive/RNAseq_folder/1_sample_filtered_feature_bc_matrix.h5')\n",
        "adata_1.obs['your_condition'] = '1'\n",
        "adata_1.var_names_make_unique()\n",
        "adata_1\n",
        "adatas_gex['1'] = adata_1"
      ]
    },
    {
      "cell_type": "code",
      "execution_count": null,
      "metadata": {
        "colab": {
          "background_save": true
        },
        "id": "FHLpGvr2O-e1"
      },
      "outputs": [],
      "source": [
        "# Load the scRNASeq data. Duplicate this step for each scRNASeq sample\n",
        "adata_3 = sc.read_10x_h5('/content/drive/My Drive/RNAseq_folder/3_sample_filtered_feature_bc_matrix.h5')\n",
        "adata_3.obs['your_condition'] = '3'\n",
        "adata_3.var_names_make_unique()\n",
        "adata_3\n",
        "adatas_gex['3'] = adata_3"
      ]
    },
    {
      "cell_type": "code",
      "execution_count": null,
      "metadata": {
        "colab": {
          "background_save": true
        },
        "id": "MpK28wAvO-iB"
      },
      "outputs": [],
      "source": [
        "adata_gex = anndata.concat(adatas_gex, index_unique=\"_\")"
      ]
    },
    {
      "cell_type": "code",
      "execution_count": null,
      "metadata": {
        "colab": {
          "background_save": true
        },
        "id": "oQV6_QcXO-kp"
      },
      "outputs": [],
      "source": [
        "adata_gex"
      ]
    },
    {
      "cell_type": "code",
      "execution_count": null,
      "metadata": {
        "colab": {
          "background_save": true
        },
        "id": "3M-wHhPGO-ne"
      },
      "outputs": [],
      "source": [
        "cell_barcodes_adata_gex = adata_gex.obs_names\n",
        "\n",
        "# Print the first few cell barcodes\n",
        "print(cell_barcodes_adata_gex[:5])"
      ]
    },
    {
      "cell_type": "code",
      "execution_count": null,
      "metadata": {
        "colab": {
          "background_save": true
        },
        "id": "d52or2D9O-qP"
      },
      "outputs": [],
      "source": [
        "cell_barcodes_adata_tcr = adata_tcr.obs_names\n",
        "\n",
        "# Print the first few cell barcodes\n",
        "print(cell_barcodes_adata_tcr[:5])"
      ]
    },
    {
      "cell_type": "code",
      "execution_count": null,
      "metadata": {
        "id": "VYZRdVC_O-s6"
      },
      "outputs": [],
      "source": [
        "## Assuming you have already loaded your data into the `adata` and `adata_tcr` variables\n",
        "\n",
        "# Create a dictionary to map the cell barcodes in adata_tcr to the format in adata\n",
        "barcode_mapping = {}\n",
        "\n",
        "# Iterate over the cell barcodes in adata_tcr and map them to the format in adata\n",
        "for cell_barcode_tcr in adata_tcr.obs_names:\n",
        "    # Extract the unique identifier (e.g., 'AAACCTGCAGACGTAG-1')\n",
        "    unique_identifier_tcr = cell_barcode_tcr\n",
        "\n",
        "    # Extract the corresponding cell barcode from adata that matches the unique identifier\n",
        "    # Assuming that 'cell_barcodes_adata' contains the cell barcodes in adata\n",
        "    matching_cell_barcode_adata_gex = [cell_barcode_adata_gex for cell_barcode_adata_gex in cell_barcodes_adata_gex if unique_identifier_tcr in cell_barcode_adata_gex]\n",
        "\n",
        "    if len(matching_cell_barcode_adata_gex) == 1:\n",
        "        # If there's a single matching cell barcode in adata, use it\n",
        "        cell_barcode_adata_gex = matching_cell_barcode_adata_gex[0]\n",
        "        # Store the mapping\n",
        "        barcode_mapping[cell_barcode_tcr] = cell_barcode_adata_gex\n",
        "\n",
        "# Now, you can use the mapping to rename the cell barcodes in adata_tcr\n",
        "adata_tcr.obs_names = [barcode_mapping.get(cell_barcode, cell_barcode) for cell_barcode in adata_tcr.obs_names]\n",
        "\n",
        "# Extract the common barcodes between adata and adata_tcr\n",
        "common_barcodes = set(adata_gex.obs_names).intersection(adata_tcr.obs_names)\n",
        "\n",
        "# Filter adata_tcr to include only the common barcodes\n",
        "adata_tcr = adata_tcr[adata_tcr.obs_names.isin(common_barcodes)]\n",
        "adata_gex = adata_gex[adata_gex.obs_names.isin(common_barcodes)]\n",
        "\n",
        "# Check if the cell barcodes in adata_tcr now match the format in adata\n",
        "print(adata_tcr.obs_names[:20])"
      ]
    },
    {
      "cell_type": "code",
      "execution_count": null,
      "metadata": {
        "id": "0_DLOgU2O-v1"
      },
      "outputs": [],
      "source": [
        "mdata = mu.MuData({\"gex\": adata_gex, \"airr\": adata_tcr})"
      ]
    },
    {
      "cell_type": "code",
      "execution_count": null,
      "metadata": {
        "id": "7dI7Ax5yO-yu"
      },
      "outputs": [],
      "source": [
        "mdata.obs[\"your_condition\"] = adata_gex.obs[\"your_condition\"]"
      ]
    },
    {
      "cell_type": "code",
      "execution_count": null,
      "metadata": {
        "id": "_xMmduYtO-1n"
      },
      "outputs": [],
      "source": [
        "mdata"
      ]
    },
    {
      "cell_type": "code",
      "execution_count": null,
      "metadata": {
        "id": "KhIRVuDfO-4U"
      },
      "outputs": [],
      "source": [
        "sc.pp.log1p(mdata[\"gex\"])\n",
        "sc.pp.pca(mdata[\"gex\"], svd_solver=\"arpack\")\n",
        "sc.pp.neighbors(mdata[\"gex\"])\n",
        "sc.tl.umap(mdata[\"gex\"])\n",
        "ir.pp.index_chains(mdata)\n",
        "ir.tl.chain_qc(mdata)"
      ]
    },
    {
      "cell_type": "code",
      "execution_count": null,
      "metadata": {
        "id": "LLZKOTDXO-7T"
      },
      "outputs": [],
      "source": [
        "fig, (ax0, ax1, ax2) = plt.subplots(1, 3, figsize=(15, 4), gridspec_kw={\"wspace\": 0.5})\n",
        "mu.pl.embedding(mdata, basis=\"gex:umap\", color=\"CD3E\", ax=ax0, show=False) # Replace by Cd3e if murine data.\n",
        "mu.pl.embedding(mdata, basis=\"gex:umap\", color=\"your_condition\", ax=ax2, show=False)\n",
        "mu.pl.embedding(mdata, basis=\"gex:umap\", color=\"airr:receptor_type\", ax=ax1)"
      ]
    },
    {
      "cell_type": "code",
      "execution_count": null,
      "metadata": {
        "id": "-TPFwQYeO--V"
      },
      "outputs": [],
      "source": [
        "%%time\n",
        "sc.external.pp.bbknn(mdata[\"gex\"], batch_key=\"your_condition\")"
      ]
    },
    {
      "cell_type": "code",
      "execution_count": null,
      "metadata": {
        "id": "CkgH0pWjO_BB"
      },
      "outputs": [],
      "source": [
        "sc.tl.umap(mdata[\"gex\"])"
      ]
    },
    {
      "cell_type": "code",
      "execution_count": null,
      "metadata": {
        "id": "RvIlepo6O_D3"
      },
      "outputs": [],
      "source": [
        "sc.pl.umap(mdata[\"gex\"], color=[\"your_condition\"])"
      ]
    },
    {
      "cell_type": "code",
      "execution_count": null,
      "metadata": {
        "id": "ypXX730zO_Gh"
      },
      "outputs": [],
      "source": [
        "sc.pp.filter_cells(mdata[\"gex\"], min_genes=200)\n",
        "sc.pp.filter_genes(mdata[\"gex\"], min_cells=3)"
      ]
    },
    {
      "cell_type": "code",
      "execution_count": null,
      "metadata": {
        "id": "pf0efi4hO_JC"
      },
      "outputs": [],
      "source": [
        "mdata[\"gex\"].var['mt'] = mdata[\"gex\"].var_names.str.startswith('MT-')  # annotate the group of mitochondrial genes as 'mt'\n",
        "sc.pp.calculate_qc_metrics(mdata[\"gex\"], qc_vars=['mt'], percent_top=None, log1p=False, inplace=True)"
      ]
    },
    {
      "cell_type": "code",
      "execution_count": null,
      "metadata": {
        "id": "rATaTyeXO_Lx"
      },
      "outputs": [],
      "source": [
        "sc.pl.violin(mdata[\"gex\"], ['n_genes_by_counts', 'total_counts', 'pct_counts_mt'],\n",
        "             jitter=0.4, multi_panel=True)"
      ]
    },
    {
      "cell_type": "code",
      "execution_count": null,
      "metadata": {
        "id": "cxj_b25KVW0s"
      },
      "outputs": [],
      "source": [
        "sc.pp.filter_genes(mdata[\"gex\"], min_cells=10)\n",
        "sc.pp.filter_cells(mdata[\"gex\"], min_genes=100)"
      ]
    },
    {
      "cell_type": "code",
      "execution_count": null,
      "metadata": {
        "id": "25bArhaJVXFy"
      },
      "outputs": [],
      "source": [
        "sc.pp.normalize_per_cell(mdata[\"gex\"])\n",
        "sc.pp.log1p(mdata[\"gex\"])\n",
        "sc.pp.highly_variable_genes(mdata[\"gex\"], flavor=\"cell_ranger\", n_top_genes=5000)\n",
        "sc.tl.pca(mdata[\"gex\"])\n",
        "sc.pp.neighbors(mdata[\"gex\"])"
      ]
    },
    {
      "cell_type": "code",
      "execution_count": null,
      "metadata": {
        "id": "wWL4tBwJVXIS"
      },
      "outputs": [],
      "source": [
        "sc.pl.scatter(mdata[\"gex\"], x='total_counts', y='pct_counts_mt')\n",
        "sc.pl.scatter(mdata[\"gex\"], x='total_counts', y='n_genes_by_counts')"
      ]
    },
    {
      "cell_type": "code",
      "execution_count": null,
      "metadata": {
        "id": "7E08QIFhVXK7"
      },
      "outputs": [],
      "source": [
        "sc.pp.normalize_total(mdata[\"gex\"], target_sum=10000)"
      ]
    },
    {
      "cell_type": "code",
      "execution_count": null,
      "metadata": {
        "id": "l2SW-_zNVXNk"
      },
      "outputs": [],
      "source": [
        "sc.pp.log1p(mdata[\"gex\"])"
      ]
    },
    {
      "cell_type": "code",
      "execution_count": null,
      "metadata": {
        "id": "_aGib39RVXQG"
      },
      "outputs": [],
      "source": [
        "sc.pp.highly_variable_genes(mdata[\"gex\"], min_mean=0.0125, max_mean=3, min_disp=0.5)"
      ]
    },
    {
      "cell_type": "code",
      "execution_count": null,
      "metadata": {
        "id": "MfM6XK4QVXSr"
      },
      "outputs": [],
      "source": [
        "sc.pl.highly_variable_genes(mdata[\"gex\"])"
      ]
    },
    {
      "cell_type": "code",
      "execution_count": null,
      "metadata": {
        "id": "llH52N4CVgPw"
      },
      "outputs": [],
      "source": [
        "mdata[\"gex\"].raw = mdata[\"gex\"]"
      ]
    },
    {
      "cell_type": "code",
      "execution_count": null,
      "metadata": {
        "id": "aWzCKURtVXVH"
      },
      "outputs": [],
      "source": [
        "sc.pp.scale(mdata[\"gex\"], max_value=10)"
      ]
    },
    {
      "cell_type": "code",
      "execution_count": null,
      "metadata": {
        "id": "V9T3JXSSVXYG"
      },
      "outputs": [],
      "source": [
        "#sc.pp.pca(mdata[\"gex\"])\n",
        "%%time\n",
        "sc.external.pp.bbknn(mdata[\"gex\"], batch_key=\"your_condition\")\n",
        "#sc.pp.neighbors(mdata[\"gex\"])\n",
        "sc.tl.umap(mdata[\"gex\"])\n",
        "sc.pl.umap(mdata[\"gex\"], color='your_condition')"
      ]
    },
    {
      "cell_type": "code",
      "execution_count": null,
      "metadata": {
        "id": "NT_PjPXOVXar"
      },
      "outputs": [],
      "source": [
        "sc.tl.rank_genes_groups(mdata[\"gex\"], groupby=\"your_condition\")\n",
        "sc.pl.rank_genes_groups(mdata[\"gex\"])"
      ]
    },
    {
      "cell_type": "code",
      "execution_count": null,
      "metadata": {
        "id": "c4F4sQVHVXdK"
      },
      "outputs": [],
      "source": [
        "sc.tl.pca(mdata[\"gex\"], svd_solver='arpack')"
      ]
    },
    {
      "cell_type": "code",
      "execution_count": null,
      "metadata": {
        "id": "EFZQzdsHVXfy"
      },
      "outputs": [],
      "source": [
        "sc.pl.pca(mdata[\"gex\"], color='CD3E') # Replace by Cd3e if murine data."
      ]
    },
    {
      "cell_type": "code",
      "execution_count": null,
      "metadata": {
        "id": "GuBir_IrVXik"
      },
      "outputs": [],
      "source": [
        "sc.pl.pca_variance_ratio(mdata[\"gex\"], log=True)"
      ]
    },
    {
      "cell_type": "code",
      "execution_count": null,
      "metadata": {
        "id": "n0T0ZjVuVXlY"
      },
      "outputs": [],
      "source": [
        "sc.pp.neighbors(mdata[\"gex\"], n_neighbors=10, n_pcs=40)"
      ]
    },
    {
      "cell_type": "code",
      "execution_count": null,
      "metadata": {
        "id": "mOocjCtgVXn_"
      },
      "outputs": [],
      "source": [
        "sc.tl.umap(mdata[\"gex\"])"
      ]
    },
    {
      "cell_type": "markdown",
      "metadata": {
        "id": "E5_Hlgm0VtAQ"
      },
      "source": []
    },
    {
      "cell_type": "code",
      "execution_count": null,
      "metadata": {
        "id": "CyxUix-JVXq4"
      },
      "outputs": [],
      "source": [
        "sc.pl.umap(mdata[\"gex\"], color=['CD3E','CD4','CD8A'])"
      ]
    },
    {
      "cell_type": "code",
      "execution_count": null,
      "metadata": {
        "id": "irkbM0jQVXth"
      },
      "outputs": [],
      "source": [
        "sc.tl.leiden(mdata[\"gex\"])"
      ]
    },
    {
      "cell_type": "code",
      "execution_count": null,
      "metadata": {
        "id": "PAYM2pavVXwQ"
      },
      "outputs": [],
      "source": [
        "sc.pl.umap(mdata[\"gex\"], color=['your_condition','leiden'])"
      ]
    },
    {
      "cell_type": "code",
      "execution_count": null,
      "metadata": {
        "id": "QfH3_vJmVXzN"
      },
      "outputs": [],
      "source": [
        "sc.tl.rank_genes_groups(mdata[\"gex\"], 'leiden', method='wilcoxon')\n",
        "sc.pl.rank_genes_groups(mdata[\"gex\"], n_genes=25, sharey=False)"
      ]
    },
    {
      "cell_type": "code",
      "execution_count": null,
      "metadata": {
        "id": "vdC7rOihVX11"
      },
      "outputs": [],
      "source": [
        "marker_genes = ['CD3E','CD4','CD8A']"
      ]
    },
    {
      "cell_type": "code",
      "execution_count": null,
      "metadata": {
        "id": "16KIQ1UNVX4f"
      },
      "outputs": [],
      "source": [
        "pd.DataFrame(mdata[\"gex\"].uns['rank_genes_groups']['names']).head(5)"
      ]
    },
    {
      "cell_type": "code",
      "execution_count": null,
      "metadata": {
        "id": "HmJNvJJKWuBV"
      },
      "outputs": [],
      "source": [
        "result = mdata[\"gex\"].uns['rank_genes_groups']\n",
        "groups = result['names'].dtype.names\n",
        "pd.DataFrame(\n",
        "    {group + '_' + key[:1]: result[key][group]\n",
        "    for group in groups for key in ['names', 'pvals']}).head(5)"
      ]
    },
    {
      "cell_type": "code",
      "execution_count": null,
      "metadata": {
        "id": "H4Qd2mNJWuLB"
      },
      "outputs": [],
      "source": [
        "sc.pl.violin(mdata[\"gex\"], marker_genes, groupby='leiden')"
      ]
    },
    {
      "cell_type": "code",
      "execution_count": null,
      "metadata": {
        "id": "v_VXywQpWuNp"
      },
      "outputs": [],
      "source": [
        "new_T_cluster_names = ['Your_cluster_1','Your_cluster_2','Your_cluster_3','Your_cluster_4','Your_cluster_5','Your_cluster_6','Your_cluster_7','Your_cluster_8','Your_cluster_9','Your_cluster_10','Your_cluster_11','Your_cluster_12','Your_cluster_13'] #Modify the number of clusters and labels as needed.\n",
        "mdata[\"gex\"].rename_categories('leiden', new_T_cluster_names)"
      ]
    },
    {
      "cell_type": "code",
      "execution_count": null,
      "metadata": {
        "id": "gsjpkxNyWuQg"
      },
      "outputs": [],
      "source": [
        "sc.pl.umap(mdata[\"gex\"], color='leiden', legend_loc='on data', title='', frameon=False, legend_fontsize=8, legend_fontoutline=2, save='.png')"
      ]
    },
    {
      "cell_type": "code",
      "execution_count": null,
      "metadata": {
        "id": "Qev6H1_aWuS-"
      },
      "outputs": [],
      "source": [
        "sc.pl.umap(mdata[\"gex\"], color=['leiden'])"
      ]
    },
    {
      "cell_type": "code",
      "execution_count": null,
      "metadata": {
        "id": "qsmaWsTpWuVk"
      },
      "outputs": [],
      "source": [
        "sc.pl.rank_genes_groups_dotplot(mdata[\"gex\"], n_genes=4, values_to_plot='logfoldchanges', min_logfoldchange=3, vmax=7, vmin=-7, cmap='bwr')"
      ]
    },
    {
      "cell_type": "code",
      "execution_count": null,
      "metadata": {
        "id": "fKoFTfpqWuYC"
      },
      "outputs": [],
      "source": [
        "sc.pl.dotplot(mdata[\"gex\"], marker_genes, groupby='leiden', title='');"
      ]
    },
    {
      "cell_type": "code",
      "execution_count": null,
      "metadata": {
        "id": "OoRWQorgWua5"
      },
      "outputs": [],
      "source": [
        "from matplotlib.pyplot import rc_context"
      ]
    },
    {
      "cell_type": "code",
      "execution_count": null,
      "metadata": {
        "id": "KcyBjyonWud5"
      },
      "outputs": [],
      "source": [
        "with rc_context({'figure.figsize': (9, 1.5)}):\n",
        "    sc.pl.rank_genes_groups_violin(mdata[\"gex\"], n_genes=20, jitter=False, save='.png')"
      ]
    },
    {
      "cell_type": "code",
      "execution_count": null,
      "metadata": {
        "id": "RI070bAVYqpY"
      },
      "outputs": [],
      "source": [
        "sc.tl.embedding_density(mdata[\"gex\"], groupby='your_condition')"
      ]
    },
    {
      "cell_type": "code",
      "execution_count": null,
      "metadata": {
        "id": "6QVV6VlHWukL"
      },
      "outputs": [],
      "source": [
        "sc.pl.embedding_density(mdata[\"gex\"], groupby='your_condition')"
      ]
    },
    {
      "cell_type": "code",
      "execution_count": null,
      "metadata": {
        "id": "YlRNicF8Wumy"
      },
      "outputs": [],
      "source": [
        "cluster_counts = pd.Series(mdata[\"gex\"].obs['leiden']).value_counts()\n",
        "cluster_percentages = cluster_counts / cluster_counts.sum() * 100\n",
        "cluster_percentages"
      ]
    },
    {
      "cell_type": "code",
      "execution_count": null,
      "metadata": {
        "id": "P33kPXDiWupr"
      },
      "outputs": [],
      "source": [
        "cumulative_percentages = cluster_percentages.cumsum()\n",
        "\n",
        "# Create a bar plot of the percentages\n",
        "fig, ax = plt.subplots()\n",
        "ax.bar(cluster_percentages.index, cluster_percentages.values, label='Percentages')\n",
        "ax.set_xlabel('Cluster')\n",
        "plt.xticks(rotation=90)\n",
        "ax.set_ylabel('Percentage')\n",
        "ax.set_title('Cluster Percentages')\n",
        "ax.legend()\n",
        "\n",
        "# Create a line plot of the cumulative percentages\n",
        "ax2 = ax.twinx()\n",
        "ax2.plot(cluster_percentages.index, cumulative_percentages.values, color='red', marker='o', label='Cumulative Percentages')\n",
        "ax2.set_ylabel('Cumulative Percentage')\n",
        "ax2.legend(loc='upper right')\n",
        "\n",
        "# Show the plot\n",
        "plt.show()"
      ]
    },
    {
      "cell_type": "code",
      "execution_count": null,
      "metadata": {
        "id": "qulWY5SVWutB"
      },
      "outputs": [],
      "source": [
        "group_column = \"your_condition\"\n",
        "cluster_column = \"leiden\"\n",
        "group_counts = mdata[\"gex\"].obs.groupby([group_column, cluster_column]).size()\n",
        "group_percentages = group_counts / group_counts.groupby(level=0).transform(sum) * 100\n",
        "group_percentages = group_percentages.reset_index(name=\"Percentage\")\n",
        "\n",
        "# Print the resulting table\n",
        "print(group_percentages)"
      ]
    },
    {
      "cell_type": "code",
      "execution_count": null,
      "metadata": {
        "id": "hVSyV6TUWuwA"
      },
      "outputs": [],
      "source": [
        "fig, ax = plt.subplots(figsize=(10, 6))\n",
        "group_percentages.pivot(index=cluster_column, columns=group_column, values=\"Percentage\").plot(kind=\"bar\", ax=ax)\n",
        "\n",
        "# Set plot properties\n",
        "ax.set_xlabel(\"Cluster\")\n",
        "ax.set_ylabel(\"Percentage\")\n",
        "ax.set_title(\"Percentage of Cells in Each Cluster for Different Groups\")\n",
        "ax.legend(title=group_column)\n",
        "\n",
        "# Display the plot\n",
        "plt.show()"
      ]
    },
    {
      "cell_type": "code",
      "execution_count": null,
      "metadata": {
        "id": "YMqDALBdY7JU"
      },
      "outputs": [],
      "source": [
        "# Calculate the percentage of cells in each cluster for different groups\n",
        "group_column = \"your_condition\"\n",
        "cluster_column = \"leiden\"\n",
        "group_counts = mdata[\"gex\"].obs.groupby([group_column, cluster_column]).size()\n",
        "group_percentages = group_counts / group_counts.groupby(level=0).transform(sum) * 100\n",
        "group_percentages = group_percentages.reset_index(name=\"Percentage\")\n",
        "\n",
        "# Create a bar plot\n",
        "fig, ax = plt.subplots(figsize=(10, 6))\n",
        "group_percentages.pivot(index=group_column, columns=cluster_column, values=\"Percentage\").plot(kind=\"bar\", stacked=True, ax=ax)\n",
        "\n",
        "# Set plot properties\n",
        "ax.set_xlabel(\"Group\")\n",
        "ax.set_ylabel(\"Percentage of Clusters\")\n",
        "ax.set_title(\"Percentage of Cells in Each Cluster for Different Groups\")\n",
        "ax.legend(title=group_column, bbox_to_anchor=(1.05, 1), loc=\"upper left\")\n",
        "\n",
        "# Display the plot\n",
        "plt.show()"
      ]
    },
    {
      "cell_type": "code",
      "execution_count": null,
      "metadata": {
        "id": "BACLdC-ZZDrR"
      },
      "outputs": [],
      "source": [
        "# Calculate the number of cells in each cluster for each group\n",
        "cluster_counts = mdata[\"gex\"].obs.groupby(['your_condition', 'leiden']).size().unstack().fillna(0)\n",
        "\n",
        "# Set the figure size\n",
        "plt.figure(figsize=(10, 6))\n",
        "\n",
        "# Plot the number of cells in each cluster for each group using a bar plot\n",
        "sns.barplot(data=cluster_counts, palette='viridis')\n",
        "\n",
        "# Set the plot labels and title\n",
        "plt.xlabel('Cluster')\n",
        "plt.ylabel('Number of Cells')\n",
        "plt.title('Number of Cells in Each Cluster for Each Group')\n",
        "\n",
        "# Rotate the x-axis labels if needed\n",
        "plt.xticks(rotation=90)\n",
        "\n",
        "# Show the plot\n",
        "plt.show()"
      ]
    },
    {
      "cell_type": "code",
      "execution_count": null,
      "metadata": {
        "id": "AiVYoL82ZLAJ"
      },
      "outputs": [],
      "source": [
        "cluster_counts = mdata[\"gex\"].obs.groupby(['your_condition', 'leiden']).size().unstack().fillna(0)\n",
        "\n",
        "# Set the figure size\n",
        "plt.figure(figsize=(10, 6))\n",
        "\n",
        "# Plot the cell counts as a heatmap\n",
        "sns.heatmap(cluster_counts, annot=True, fmt='g', cmap='YlGnBu')\n",
        "\n",
        "# Set the plot labels and title\n",
        "plt.xlabel('Cluster')\n",
        "plt.ylabel('Group')\n",
        "plt.title('Number of Cells\\nComparison Between Groups for Each Cluster')\n",
        "\n",
        "# Show the plot\n",
        "plt.show()"
      ]
    },
    {
      "cell_type": "code",
      "execution_count": null,
      "metadata": {
        "id": "VplGGqXBZLIL"
      },
      "outputs": [],
      "source": [
        "!mkdir dataTCR\n",
        "!cd dataTCR\n",
        "!mkdir write"
      ]
    },
    {
      "cell_type": "code",
      "execution_count": null,
      "metadata": {
        "id": "c7Ph83RLZLK0"
      },
      "outputs": [],
      "source": [
        "resultsmdataTCR_file = 'write/mdataTCRs.h5ad'  # the file that will store the analysis results"
      ]
    },
    {
      "cell_type": "code",
      "execution_count": null,
      "metadata": {
        "id": "1NgRjK4TZLN9"
      },
      "outputs": [],
      "source": [
        "mdata[\"gex\"].obsm[\"X_umap_TCR\"] = mdata[\"gex\"].obsm[\"X_umap\"]"
      ]
    },
    {
      "cell_type": "code",
      "execution_count": null,
      "metadata": {
        "id": "wF1LTqRRdo4g"
      },
      "outputs": [],
      "source": [
        "mu.pl.embedding(\n",
        "    mdata,\n",
        "    basis=\"gex:umap\",\n",
        "    color=[\"gex:your_condition\"],\n",
        "    ncols=3,\n",
        "    wspace=0.7,\n",
        ")\n",
        "mu.pl.embedding(\n",
        "    mdata,\n",
        "    basis=\"gex:umap\",\n",
        "    color=[\"CD8A\", \"CD4\"],\n",
        "    ncols=3,\n",
        "    wspace=0.7,\n",
        ")"
      ]
    },
    {
      "cell_type": "code",
      "execution_count": null,
      "metadata": {
        "id": "IoiPM-IjZLTs"
      },
      "outputs": [],
      "source": [
        "ir.pp.index_chains(mdata)"
      ]
    },
    {
      "cell_type": "code",
      "execution_count": null,
      "metadata": {
        "id": "9z4n1tH9bmZV"
      },
      "outputs": [],
      "source": [
        "ir.tl.chain_qc(mdata)"
      ]
    },
    {
      "cell_type": "code",
      "execution_count": null,
      "metadata": {
        "id": "8ASLsu7cZLWo"
      },
      "outputs": [],
      "source": [
        "_ = ir.pl.group_abundance(\n",
        "    mdata, groupby=\"airr:receptor_subtype\", target_col=\"gex:your_condition\"\n",
        ")"
      ]
    },
    {
      "cell_type": "code",
      "execution_count": null,
      "metadata": {
        "id": "GkeXzqGlZLY9"
      },
      "outputs": [],
      "source": [
        "_ = ir.pl.group_abundance(mdata, groupby=\"airr:chain_pairing\", target_col=\"gex:your_condition\")"
      ]
    },
    {
      "cell_type": "code",
      "execution_count": null,
      "metadata": {
        "id": "rJoCAkqeZLb6"
      },
      "outputs": [],
      "source": [
        "print(\n",
        "    \"Fraction of cells with more than one pair of TCRs: {:.2f}\".format(\n",
        "        np.sum(\n",
        "            mdata.obs[\"airr:chain_pairing\"].isin(\n",
        "                [\"extra VJ\", \"extra VDJ\", \"two full chains\", \"multichain\"]\n",
        "            )\n",
        "        )\n",
        "        / mdata[\"airr\"].n_obs\n",
        "    )\n",
        ")"
      ]
    },
    {
      "cell_type": "code",
      "execution_count": null,
      "metadata": {
        "id": "XkAXUuMtZLjM"
      },
      "outputs": [],
      "source": [
        "mu.pl.embedding(\n",
        "    mdata, basis=\"gex:umap\", color=\"airr:chain_pairing\", groups=\"multichain\"\n",
        ")"
      ]
    },
    {
      "cell_type": "code",
      "execution_count": null,
      "metadata": {
        "id": "KdUnjNytZLmm"
      },
      "outputs": [],
      "source": [
        "mu.pp.filter_obs(mdata, \"airr:chain_pairing\", lambda x: x != \"multichain\")"
      ]
    },
    {
      "cell_type": "code",
      "execution_count": null,
      "metadata": {
        "id": "pxWd69l5bxQx"
      },
      "outputs": [],
      "source": [
        "mu.pp.filter_obs(\n",
        "    mdata, \"airr:chain_pairing\", lambda x: ~np.isin(x, [\"orphan VDJ\", \"orphan VJ\"])\n",
        ")"
      ]
    },
    {
      "cell_type": "code",
      "execution_count": null,
      "metadata": {
        "id": "vJiyhrw8bxeh"
      },
      "outputs": [],
      "source": [
        "mdata"
      ]
    },
    {
      "cell_type": "code",
      "execution_count": null,
      "metadata": {
        "id": "wTThgtSebxhn"
      },
      "outputs": [],
      "source": [
        "ax = ir.pl.group_abundance(mdata, groupby=\"airr:chain_pairing\", target_col=\"gex:your_condition\")"
      ]
    },
    {
      "cell_type": "code",
      "execution_count": null,
      "metadata": {
        "id": "clcQPkwabxlL"
      },
      "outputs": [],
      "source": [
        "# using default parameters, `ir_dist` will compute nucleotide sequence identity\n",
        "ir.pp.ir_dist(mdata)\n",
        "ir.tl.define_clonotypes(mdata, receptor_arms=\"all\", dual_ir=\"primary_only\")"
      ]
    },
    {
      "cell_type": "code",
      "execution_count": null,
      "metadata": {
        "id": "40pG7mUGbxoH"
      },
      "outputs": [],
      "source": [
        "ir.tl.clonotype_network(mdata, min_cells=2)"
      ]
    },
    {
      "cell_type": "code",
      "execution_count": null,
      "metadata": {
        "id": "s5tGfsMwbxrb"
      },
      "outputs": [],
      "source": [
        "mdata.obs.groupby(\"gex:your_condition\", dropna=False).size()"
      ]
    },
    {
      "cell_type": "code",
      "execution_count": null,
      "metadata": {
        "colab": {
          "background_save": true
        },
        "id": "xXku_NJnbxuk"
      },
      "outputs": [],
      "source": [
        "_ = ir.pl.clonotype_network(\n",
        "    mdata, color=\"gex:your_condition\", base_size=20, label_fontsize=9, panel_size=(7, 7)\n",
        ")"
      ]
    },
    {
      "cell_type": "code",
      "execution_count": null,
      "metadata": {
        "colab": {
          "background_save": true
        },
        "id": "A3R5fRCFbxxY"
      },
      "outputs": [],
      "source": [
        "ir.pp.ir_dist(\n",
        "    mdata,\n",
        "    metric=\"alignment\",\n",
        "    sequence=\"aa\",\n",
        "    cutoff=15,\n",
        ")"
      ]
    },
    {
      "cell_type": "code",
      "execution_count": null,
      "metadata": {
        "colab": {
          "background_save": true
        },
        "id": "VEDeJfgZbx0p"
      },
      "outputs": [],
      "source": [
        "ir.tl.define_clonotype_clusters(\n",
        "    mdata, sequence=\"aa\", metric=\"alignment\", receptor_arms=\"all\", dual_ir=\"any\"\n",
        ")"
      ]
    },
    {
      "cell_type": "code",
      "execution_count": null,
      "metadata": {
        "colab": {
          "background_save": true
        },
        "id": "LcxnaJ1mbx3t"
      },
      "outputs": [],
      "source": [
        "ir.tl.clonotype_network(mdata, min_cells=3, sequence=\"aa\", metric=\"alignment\")"
      ]
    },
    {
      "cell_type": "code",
      "execution_count": null,
      "metadata": {
        "colab": {
          "background_save": true
        },
        "id": "THA3DJzGbx7W"
      },
      "outputs": [],
      "source": [
        "_ = ir.pl.clonotype_network(\n",
        "    mdata, color=\"gex:your_condition\", label_fontsize=9, panel_size=(7, 7), base_size=20\n",
        ")"
      ]
    },
    {
      "cell_type": "code",
      "execution_count": null,
      "metadata": {
        "colab": {
          "background_save": true
        },
        "id": "rioQxMv7byDn"
      },
      "outputs": [],
      "source": [
        "with ir.get.airr_context(mdata, \"junction_aa\", [\"VJ_1\", \"VDJ_1\", \"VJ_2\", \"VDJ_2\"]):\n",
        "    cdr3_ct_169 = (\n",
        "        # TODO astype(str) is required due to a bug in pandas ignoring `dropna=False`. It seems fixed in pandas 2.x\n",
        "        mdata.obs.loc[lambda x: x[\"airr:cc_aa_alignment\"] == \"169\"]\n",
        "        .astype(str)\n",
        "        .groupby(\n",
        "            [\n",
        "                \"VJ_1_junction_aa\",\n",
        "                \"VDJ_1_junction_aa\",\n",
        "                \"VJ_2_junction_aa\",\n",
        "                \"VDJ_2_junction_aa\",\n",
        "                \"airr:receptor_subtype\",\n",
        "            ],\n",
        "            observed=True,\n",
        "            dropna=False,\n",
        "        )\n",
        "        .size()\n",
        "        .reset_index(name=\"n_cells\")\n",
        "    )\n",
        "cdr3_ct_169"
      ]
    },
    {
      "cell_type": "code",
      "execution_count": null,
      "metadata": {
        "colab": {
          "background_save": true
        },
        "id": "guaB6YelcjH1"
      },
      "outputs": [],
      "source": [
        "ir.tl.define_clonotype_clusters(\n",
        "    mdata,\n",
        "    sequence=\"aa\",\n",
        "    metric=\"alignment\",\n",
        "    receptor_arms=\"all\",\n",
        "    dual_ir=\"any\",\n",
        "    same_v_gene=True,\n",
        "    key_added=\"cc_aa_alignment_same_v\",\n",
        ")"
      ]
    },
    {
      "cell_type": "code",
      "execution_count": null,
      "metadata": {
        "colab": {
          "background_save": true
        },
        "id": "LYcQpTd9cjRr"
      },
      "outputs": [],
      "source": [
        "# find clonotypes with more than one `clonotype_same_v`\n",
        "ct_different_v = mdata.obs.groupby(\"airr:cc_aa_alignment\").apply(\n",
        "    lambda x: x[\"airr:cc_aa_alignment_same_v\"].nunique() > 1\n",
        ")\n",
        "ct_different_v = ct_different_v[ct_different_v].index.values.tolist()\n",
        "ct_different_v"
      ]
    },
    {
      "cell_type": "code",
      "execution_count": null,
      "metadata": {
        "colab": {
          "background_save": true
        },
        "id": "BtGTYTN7cjUy"
      },
      "outputs": [],
      "source": [
        "with ir.get.airr_context(mdata, \"v_call\", [\"VJ_1\", \"VDJ_1\"]):\n",
        "    ct_different_v_df = (\n",
        "        mdata.obs.loc[\n",
        "            lambda x: x[\"airr:cc_aa_alignment\"].isin(ct_different_v),\n",
        "            [\n",
        "                \"airr:cc_aa_alignment\",\n",
        "                \"airr:cc_aa_alignment_same_v\",\n",
        "                \"VJ_1_v_call\",\n",
        "                \"VDJ_1_v_call\",\n",
        "            ],\n",
        "        ]\n",
        "        .sort_values(\"airr:cc_aa_alignment\")\n",
        "        .drop_duplicates()\n",
        "        .reset_index(drop=True)\n",
        "    )\n",
        "ct_different_v_df"
      ]
    },
    {
      "cell_type": "code",
      "execution_count": null,
      "metadata": {
        "colab": {
          "background_save": true
        },
        "id": "MhPXPR9rcjXe"
      },
      "outputs": [],
      "source": [
        "ir.tl.clonal_expansion(mdata)"
      ]
    },
    {
      "cell_type": "code",
      "execution_count": null,
      "metadata": {
        "colab": {
          "background_save": true
        },
        "id": "WZrnDjm3cjan"
      },
      "outputs": [],
      "source": [
        "mu.pl.embedding(\n",
        "    mdata, basis=\"gex:umap\", color=[\"airr:clonal_expansion\", \"airr:clone_id_size\"]\n",
        ")"
      ]
    },
    {
      "cell_type": "code",
      "execution_count": null,
      "metadata": {
        "colab": {
          "background_save": true
        },
        "id": "yg9AZQl8cjdU"
      },
      "outputs": [],
      "source": [
        "_ = ir.pl.clonal_expansion(\n",
        "    mdata, target_col=\"clone_id\", groupby=\"gex:leiden\", clip_at=4, normalize=False\n",
        ")"
      ]
    },
    {
      "cell_type": "code",
      "execution_count": null,
      "metadata": {
        "colab": {
          "background_save": true
        },
        "id": "L3XLiEjCcjju"
      },
      "outputs": [],
      "source": [
        "ir.pl.clonal_expansion(mdata, target_col=\"clone_id\", groupby=\"gex:leiden\")"
      ]
    },
    {
      "cell_type": "code",
      "execution_count": null,
      "metadata": {
        "colab": {
          "background_save": true
        },
        "id": "CH5rzZTqcv_J"
      },
      "outputs": [],
      "source": [
        "_ = ir.pl.alpha_diversity(\n",
        "    mdata, metric=\"normalized_shannon_entropy\", groupby=\"gex:leiden\"\n",
        ")"
      ]
    },
    {
      "cell_type": "code",
      "execution_count": null,
      "metadata": {
        "colab": {
          "background_save": true
        },
        "id": "CZ9bz128cwB7"
      },
      "outputs": [],
      "source": [
        "_ = ir.pl.group_abundance(\n",
        "    mdata, groupby=\"airr:clone_id\", target_col=\"gex:leiden\", max_cols=10\n",
        ")"
      ]
    },
    {
      "cell_type": "code",
      "execution_count": null,
      "metadata": {
        "colab": {
          "background_save": true
        },
        "id": "tFaFfvc1cwFU"
      },
      "outputs": [],
      "source": [
        "_ = ir.pl.group_abundance(\n",
        "    mdata,\n",
        "    groupby=\"airr:clone_id\",\n",
        "    target_col=\"gex:leiden\",\n",
        "    max_cols=10,\n",
        "    normalize=\"gex:your_condition\",\n",
        ")"
      ]
    },
    {
      "cell_type": "code",
      "execution_count": null,
      "metadata": {
        "colab": {
          "background_save": true
        },
        "id": "sILKdaf9cwIV"
      },
      "outputs": [],
      "source": [
        "_ = ir.pl.group_abundance(\n",
        "    normalize=\"gex:your_condition\",\n",
        "    mdata, groupby=\"airr:clone_id\", target_col=\"gex:your_condition\", max_cols=15, figsize=(5, 3)\n",
        ")"
      ]
    },
    {
      "cell_type": "code",
      "execution_count": null,
      "metadata": {
        "colab": {
          "background_save": true
        },
        "id": "1YqylM19cwLk"
      },
      "outputs": [],
      "source": [
        "_ = ir.pl.group_abundance(\n",
        "    mdata,\n",
        "    groupby=\"airr:clone_id\",\n",
        "    target_col=\"gex:your_condition\",\n",
        "    max_cols=15,\n",
        "    figsize=(5, 3),\n",
        ")"
      ]
    },
    {
      "cell_type": "code",
      "execution_count": null,
      "metadata": {
        "colab": {
          "background_save": true
        },
        "id": "2ArXRTurcwOM"
      },
      "outputs": [],
      "source": [
        "ir.tl.clonotype_convergence(mdata, key_coarse=\"cc_aa_alignment\", key_fine=\"clone_id\")"
      ]
    },
    {
      "cell_type": "markdown",
      "metadata": {
        "id": "TWtXTFQdc-nt"
      },
      "source": []
    },
    {
      "cell_type": "code",
      "execution_count": null,
      "metadata": {
        "colab": {
          "background_save": true
        },
        "id": "LSEHKtzicwRj"
      },
      "outputs": [],
      "source": [
        "mu.pl.embedding(mdata, \"gex:umap\", color=\"airr:is_convergent\")"
      ]
    },
    {
      "cell_type": "code",
      "execution_count": null,
      "metadata": {
        "colab": {
          "background_save": true
        },
        "id": "yT2fj0DBcwcf"
      },
      "outputs": [],
      "source": [
        "with ir.get.airr_context(mdata, \"v_call\"):\n",
        "    ir.pl.group_abundance(\n",
        "        mdata,\n",
        "        groupby=\"VJ_1_v_call\",\n",
        "        target_col=\"gex:leiden\",\n",
        "        normalize=True,\n",
        "        max_cols=10,\n",
        "    )"
      ]
    },
    {
      "cell_type": "code",
      "execution_count": null,
      "metadata": {
        "colab": {
          "background_save": true
        },
        "id": "VMW2SdCLcwhY"
      },
      "outputs": [],
      "source": [
        "_ = ir.pl.vdj_usage(\n",
        "    mdata,\n",
        "    full_combination=False,\n",
        "    max_segments=None,\n",
        "    max_ribbons=30,\n",
        "    fig_kws={\"figsize\": (8, 5)},\n",
        ")"
      ]
    },
    {
      "cell_type": "code",
      "execution_count": null,
      "metadata": {
        "colab": {
          "background_save": true
        },
        "id": "SaBSm2c4cwlz"
      },
      "outputs": [],
      "source": [
        "ir.pl.vdj_usage(\n",
        "    mdata[mdata.obs[\"airr:clone_id\"].isin([\"183\", \"186\", \"187\", \"185\", \"9\", \"184\", \"27\", \"23\", \"8\", \"10\"]), :], #Replace with you clones of interest.\n",
        "    max_ribbons=None,\n",
        "    max_segments=100,\n",
        ")"
      ]
    },
    {
      "cell_type": "code",
      "execution_count": null,
      "metadata": {
        "colab": {
          "background_save": true
        },
        "id": "6-_RoUadcwrV"
      },
      "outputs": [],
      "source": [
        "ir.pl.spectratype(mdata, color=\"gex:leiden\", viztype=\"bar\", fig_kws={\"dpi\": 120})"
      ]
    },
    {
      "cell_type": "code",
      "execution_count": null,
      "metadata": {
        "colab": {
          "background_save": true
        },
        "id": "76xp0vkocwu6"
      },
      "outputs": [],
      "source": [
        "ir.pl.spectratype(\n",
        "    mdata,\n",
        "    color=\"gex:leiden\",\n",
        "    viztype=\"curve\",\n",
        "    curve_layout=\"shifted\",\n",
        "    fig_kws={\"dpi\": 120},\n",
        "    kde_kws={\"kde_norm\": False},\n",
        ")"
      ]
    },
    {
      "cell_type": "code",
      "execution_count": null,
      "metadata": {
        "colab": {
          "background_save": true
        },
        "id": "IPeaX6JMcwyl"
      },
      "outputs": [],
      "source": [
        "with ir.get.airr_context(mdata, \"v_call\"):\n",
        "    ir.pl.spectratype(\n",
        "        mdata[\n",
        "            mdata.obs[\"VDJ_1_v_call\"].isin(\n",
        "                [\"TRBV20-1\", \"TRBV7-2\", \"TRBV28\", \"TRBV5-1\", \"TRBV7-9\"]\n",
        "            ),\n",
        "            :,\n",
        "        ],\n",
        "        chain=\"VDJ_1\",\n",
        "        color=\"VDJ_1_v_call\",\n",
        "        normalize=\"gex:patient\",\n",
        "        fig_kws={\"dpi\": 120},\n",
        "    )"
      ]
    },
    {
      "cell_type": "code",
      "execution_count": null,
      "metadata": {
        "colab": {
          "background_save": true
        },
        "id": "DJWbkrBdcw10"
      },
      "outputs": [],
      "source": [
        "df, dst, lk = ir.tl.repertoire_overlap(mdata, \"gex:your_condition\", inplace=False)\n",
        "df.head()"
      ]
    },
    {
      "cell_type": "code",
      "execution_count": null,
      "metadata": {
        "colab": {
          "background_save": true
        },
        "id": "kZ3xJ3VScw5S"
      },
      "outputs": [],
      "source": [
        "ir.pl.repertoire_overlap(\n",
        "    mdata, \"gex:your_condition\", pair_to_plot=[\"1\", \"3\"], fig_kws={\"dpi\": 120} #Replace by your condition names.\n",
        ")"
      ]
    },
    {
      "cell_type": "code",
      "execution_count": null,
      "metadata": {
        "colab": {
          "background_save": true
        },
        "id": "ehVvQY0Pcw8T"
      },
      "outputs": [],
      "source": [
        "ir.tl.clonotype_modularity(mdata, target_col=\"airr:cc_aa_alignment\")"
      ]
    },
    {
      "cell_type": "code",
      "execution_count": null,
      "metadata": {
        "colab": {
          "background_save": true
        },
        "id": "zRbwnQMnefps"
      },
      "outputs": [],
      "source": [
        "mu.pl.embedding(mdata, basis=\"gex:umap\", color=\"airr:clonotype_modularity\")"
      ]
    },
    {
      "cell_type": "code",
      "execution_count": null,
      "metadata": {
        "colab": {
          "background_save": true
        },
        "id": "UUGJ3Exgef23"
      },
      "outputs": [],
      "source": [
        "_ = ir.pl.clonotype_network(\n",
        "    mdata,\n",
        "    color=\"clonotype_modularity\",\n",
        "    label_fontsize=9,\n",
        "    panel_size=(6, 6),\n",
        "    base_size=20,\n",
        ")"
      ]
    },
    {
      "cell_type": "code",
      "execution_count": null,
      "metadata": {
        "colab": {
          "background_save": true
        },
        "id": "-rm6ouOIef6R"
      },
      "outputs": [],
      "source": [
        "ir.pl.clonotype_modularity(mdata, base_size=20)"
      ]
    },
    {
      "cell_type": "code",
      "execution_count": null,
      "metadata": {
        "colab": {
          "background_save": true
        },
        "id": "2GtsL-vGef-B"
      },
      "outputs": [],
      "source": [
        "clonotypes_top_modularity = list(\n",
        "    mdata.obs.set_index(\"airr:cc_aa_alignment\")[\"airr:clonotype_modularity\"]\n",
        "    .sort_values(ascending=False)\n",
        "    .index.unique()\n",
        "    .values[:20]\n",
        ")"
      ]
    },
    {
      "cell_type": "code",
      "execution_count": null,
      "metadata": {
        "colab": {
          "background_save": true
        },
        "id": "O-IyWXUbegBQ"
      },
      "outputs": [],
      "source": [
        "test_ad = mu.pl.embedding(\n",
        "    mdata,\n",
        "    basis=\"gex:umap\",\n",
        "    color=\"airr:cc_aa_alignment\",\n",
        "    groups=clonotypes_top_modularity,\n",
        "    palette=cycler(color=mpl_cm.Dark2_r.colors),\n",
        ")"
      ]
    },
    {
      "cell_type": "code",
      "execution_count": null,
      "metadata": {
        "colab": {
          "background_save": true
        },
        "id": "6N4Il_V8egE0"
      },
      "outputs": [],
      "source": [
        "# Since sc.tl.rank_genes_group does not support MuData, we need to temporarily add\n",
        "# the AIRR columns to the gene expression AnnData object\n",
        "with ir.get.obs_context(\n",
        "    mdata[\"gex\"], {\"cc_aa_alignment\": mdata.obs[\"airr:cc_aa_alignment\"]}\n",
        ") as tmp_ad:\n",
        "    sc.tl.rank_genes_groups(\n",
        "        tmp_ad,\n",
        "        \"cc_aa_alignment\",\n",
        "        groups=clonotypes_top_modularity,\n",
        "        reference=\"rest\",\n",
        "        method=\"wilcoxon\",\n",
        "    )\n",
        "    fig, axs = plt.subplots(1, 2, figsize=(8, 4))\n",
        "    for ct, ax in zip(clonotypes_top_modularity, axs):\n",
        "        sc.pl.rank_genes_groups_violin(\n",
        "            tmp_ad, groups=[ct], n_genes=15, ax=ax, show=False, strip=False\n",
        "        )"
      ]
    },
    {
      "cell_type": "code",
      "execution_count": null,
      "metadata": {
        "colab": {
          "background_save": true
        },
        "id": "DlWGaQKFegII"
      },
      "outputs": [],
      "source": [
        "freq, stat = ir.tl.clonotype_imbalance(\n",
        "    mdata,\n",
        "    replicate_col=\"gex:patient\",\n",
        "    groupby=\"gex:leiden\",\n",
        "    case_label=\"CD8_T_GZMB\",\n",
        "    control_label=\"CD4_T_GZMB\",\n",
        "    inplace=False,\n",
        ")\n",
        "top_differential_clonotypes = stat[\"clone_id\"].tolist()[:10]"
      ]
    },
    {
      "cell_type": "code",
      "execution_count": null,
      "metadata": {
        "colab": {
          "background_save": true
        },
        "id": "JVHayJ01egLK"
      },
      "outputs": [],
      "source": [
        "fig, (ax1, ax2) = plt.subplots(1, 2, figsize=(12, 4), gridspec_kw={\"wspace\": 0.6})\n",
        "mu.pl.embedding(mdata, basis=\"gex:umap\", color=\"gex:leiden\", ax=ax1, show=False)\n",
        "mu.pl.embedding(\n",
        "    mdata,\n",
        "    basis=\"gex:umap\",\n",
        "    color=\"airr:clone_id\",\n",
        "    groups=top_differential_clonotypes,\n",
        "    ax=ax2,\n",
        "    # increase size of highlighted dots\n",
        "    size=[\n",
        "        80 if c in top_differential_clonotypes else 30\n",
        "        for c in mdata.obs[\"airr:clone_id\"][mdata.mod[\"gex\"].obs_names]\n",
        "    ],\n",
        "    palette=cycler(color=mpl_cm.Dark2_r.colors),\n",
        ")"
      ]
    },
    {
      "cell_type": "code",
      "execution_count": null,
      "metadata": {
        "colab": {
          "background_save": true
        },
        "id": "Z5-QsxJXegO-"
      },
      "outputs": [],
      "source": [
        "fig, (ax1, ax2) = plt.subplots(1, 2, figsize=(12, 4), gridspec_kw={\"wspace\": 0.6})\n",
        "mu.pl.embedding(mdata, basis=\"gex:umap\", color=\"gex:leiden\", ax=ax1, show=False)\n",
        "mu.pl.embedding(\n",
        "    mdata,\n",
        "    basis=\"gex:umap\",\n",
        "    color=\"airr:clone_id\",\n",
        "    groups=['9','1','19','77'], #Replace with your clones of interest.\n",
        "    ax=ax2,\n",
        "    # increase size of highlighted dots\n",
        "    size=[\n",
        "        80 for c in mdata.obs[\"airr:clone_id\"][mdata.mod[\"gex\"].obs_names]\n",
        "    ],\n",
        "    palette=cycler(color=mpl_cm.Dark2_r.colors),\n",
        ")"
      ]
    },
    {
      "cell_type": "code",
      "execution_count": null,
      "metadata": {
        "colab": {
          "background_save": true
        },
        "id": "Y-PwtoQAegSD"
      },
      "outputs": [],
      "source": [
        "# ir.tl.repertoire_overlap(mdata, \"gex:cluster\")\n",
        "_ = ir.pl.repertoire_overlap(\n",
        "    mdata, \"gex:leiden\", pair_to_plot=[\"Your_Cluster_1\", \"Your_Cluster_2\"], fig_kws={\"dpi\": 120} #Replace with your clusters of interest.\n",
        ")"
      ]
    },
    {
      "cell_type": "code",
      "execution_count": null,
      "metadata": {
        "colab": {
          "background_save": true
        },
        "id": "Hrdm4-vfegVO"
      },
      "outputs": [],
      "source": [
        "with ir.get.obs_context(\n",
        "    mdata[\"gex\"], {\"clone_id\": mdata.obs[\"airr:clone_id\"]}\n",
        ") as tmp_ad:\n",
        "    sc.tl.rank_genes_groups(\n",
        "        tmp_ad, \"clone_id\", groups=[\"93\"], method=\"wilcoxon\"\n",
        "    )\n",
        "    sc.pl.rank_genes_groups_violin(tmp_ad, groups=\"93\", n_genes=15)"
      ]
    },
    {
      "cell_type": "code",
      "execution_count": null,
      "metadata": {
        "colab": {
          "background_save": true
        },
        "id": "ecB1PF0ZegYO"
      },
      "outputs": [],
      "source": [
        "vdjdb = ir.datasets.vdjdb()"
      ]
    },
    {
      "cell_type": "code",
      "execution_count": null,
      "metadata": {
        "colab": {
          "background_save": true
        },
        "id": "SoI3Nu0Eegb9"
      },
      "outputs": [],
      "source": [
        "ir.pp.ir_dist(mdata, vdjdb, metric=\"identity\", sequence=\"aa\")"
      ]
    },
    {
      "cell_type": "code",
      "execution_count": null,
      "metadata": {
        "colab": {
          "background_save": true
        },
        "id": "sWta-toaegfV"
      },
      "outputs": [],
      "source": [
        "ir.tl.ir_query(\n",
        "    mdata,\n",
        "    vdjdb,\n",
        "    metric=\"identity\",\n",
        "    sequence=\"aa\",\n",
        "    receptor_arms=\"any\",\n",
        "    dual_ir=\"any\",\n",
        ")"
      ]
    },
    {
      "cell_type": "code",
      "execution_count": null,
      "metadata": {
        "colab": {
          "background_save": true
        },
        "id": "6LdCgsW1egie"
      },
      "outputs": [],
      "source": [
        "ir.tl.ir_query_annotate_df(\n",
        "    mdata,\n",
        "    vdjdb,\n",
        "    metric=\"identity\",\n",
        "    sequence=\"aa\",\n",
        "    include_ref_cols=[\"antigen.species\", \"antigen.gene\"],\n",
        ").tail()"
      ]
    },
    {
      "cell_type": "code",
      "execution_count": null,
      "metadata": {
        "colab": {
          "background_save": true
        },
        "id": "PDWQ3kcBeglb"
      },
      "outputs": [],
      "source": [
        "ir.tl.ir_query_annotate(\n",
        "    mdata,\n",
        "    vdjdb,\n",
        "    metric=\"identity\",\n",
        "    sequence=\"aa\",\n",
        "    include_ref_cols=[\"antigen.species\"],\n",
        "    strategy=\"most-frequent\",\n",
        ")"
      ]
    },
    {
      "cell_type": "code",
      "execution_count": null,
      "metadata": {
        "colab": {
          "background_save": true
        },
        "id": "zzzcBS8QegoW"
      },
      "outputs": [],
      "source": [
        "mu.pl.embedding(mdata, \"gex:umap\", color=\"airr:antigen.species\")"
      ]
    }
  ],
  "metadata": {
    "colab": {
      "provenance": [],
      "authorship_tag": "ABX9TyMdV9CGMEWiL7KLqDsuQ3Cd",
      "include_colab_link": true
    },
    "kernelspec": {
      "display_name": "Python 3",
      "name": "python3"
    },
    "language_info": {
      "name": "python"
    }
  },
  "nbformat": 4,
  "nbformat_minor": 0
}